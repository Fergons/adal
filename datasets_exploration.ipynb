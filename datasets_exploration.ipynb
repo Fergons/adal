{
 "cells": [
  {
   "cell_type": "code",
   "execution_count": null,
   "metadata": {},
   "outputs": [
    {
     "name": "stdout",
     "output_type": "stream",
     "text": [
      "1572\n",
      "['movie_id', 'plot_summary', 'duration', 'genre', 'rating', 'release_date', 'plot_synopsis']\n"
     ]
    },
    {
     "data": {
      "text/plain": [
       "movie_id                                                tt0114142/\n",
       "plot_summary     The marriage of David Burgess, a senior execut...\n",
       "duration                                                  1h 32min\n",
       "genre                                            [Drama, Thriller]\n",
       "rating                                                         4.0\n",
       "release_date                                            1999-01-29\n",
       "plot_synopsis                                                     \n",
       "Name: 1571, dtype: object"
      ]
     },
     "execution_count": 10,
     "metadata": {},
     "output_type": "execute_result"
    }
   ],
   "source": [
    "import pandas as pd\n",
    "imdb_df = pd.read_json(\"IMDB_movie_details.json\", lines=True)\n",
    "print(len(imdb_df))\n",
    "print(imdb_df.columns.to_list())\n",
    "\n"
   ]
  }
 ],
 "metadata": {
  "kernelspec": {
   "display_name": ".venv",
   "language": "python",
   "name": "python3"
  },
  "language_info": {
   "codemirror_mode": {
    "name": "ipython",
    "version": 3
   },
   "file_extension": ".py",
   "mimetype": "text/x-python",
   "name": "python",
   "nbconvert_exporter": "python",
   "pygments_lexer": "ipython3",
   "version": "3.11.10"
  }
 },
 "nbformat": 4,
 "nbformat_minor": 2
}
